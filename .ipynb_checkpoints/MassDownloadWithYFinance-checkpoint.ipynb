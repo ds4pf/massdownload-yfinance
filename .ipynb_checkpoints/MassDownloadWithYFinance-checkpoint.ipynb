{
 "cells": [
  {
   "cell_type": "markdown",
   "metadata": {},
   "source": [
    "## DAX Mass Download with yfinance\n",
    "\n",
    "#### API Docs:\n",
    "https://aroussi.com/post/python-yahoo-finance  \n",
    "https://pypi.org/project/yfinance/  \n",
    "\n",
    "Get **Ticker Symbols** from dax-indices.com:  \n",
    "DAX https://www.dax-indices.com/index-details?isin=DE0008469008  \n",
    "MDAX https://www.dax-indices.com/index-details?isin=DE0008467416  \n",
    "  \n",
    "Get S&P500 Symbols from https://datahub.io/core/s-and-p-500-companies#resource-constituents\n"
   ]
  },
  {
   "cell_type": "code",
   "execution_count": 1,
   "metadata": {},
   "outputs": [],
   "source": [
    "import yfinance as yf\n",
    "import pandas as pd"
   ]
  },
  {
   "cell_type": "code",
   "execution_count": 2,
   "metadata": {},
   "outputs": [],
   "source": [
    "dax_df = pd.read_csv('data/DAX.csv', sep=';',header=None)"
   ]
  },
  {
   "cell_type": "markdown",
   "metadata": {},
   "source": [
    "dax_df is a pandas dataframe. We only need the colum 0 "
   ]
  },
  {
   "cell_type": "code",
   "execution_count": 3,
   "metadata": {},
   "outputs": [],
   "source": [
    "dax_series = dax_df[0]"
   ]
  },
  {
   "cell_type": "markdown",
   "metadata": {},
   "source": [
    "Now iterate over dax values and retrieve historical data for one year.  \n",
    "Instead of period you might use start and end as parameters. Read the API Doc."
   ]
  },
  {
   "cell_type": "code",
   "execution_count": 5,
   "metadata": {},
   "outputs": [],
   "source": [
    "for (index,symbol) in dax_series.items():\n",
    "    ticks = yf.Ticker(symbol)\n",
    "    h = ticks.history(period=\"1y\")\n",
    "    history = h['Close']\n",
    "    history.to_csv('out/'+symbol+'.csv', sep=';', header=True)"
   ]
  }
 ],
 "metadata": {
  "kernelspec": {
   "display_name": "Python 3",
   "language": "python",
   "name": "python3"
  },
  "language_info": {
   "codemirror_mode": {
    "name": "ipython",
    "version": 3
   },
   "file_extension": ".py",
   "mimetype": "text/x-python",
   "name": "python",
   "nbconvert_exporter": "python",
   "pygments_lexer": "ipython3",
   "version": "3.6.5"
  }
 },
 "nbformat": 4,
 "nbformat_minor": 2
}
